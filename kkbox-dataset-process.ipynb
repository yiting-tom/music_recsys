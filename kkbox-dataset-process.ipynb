{
 "cells": [
  {
   "cell_type": "markdown",
   "metadata": {},
   "source": [
    "# KKBox Dataset Processing\n",
    "\n",
    "[Kaggle Link](https://www.kaggle.com/competitions/kkbox-music-recommendation-challenge/overview)\n",
    "\n",
    "[Notion Link](https://www.notion.so/yi-ting/W1-Spike-Datasets-7f37af801dbf4e61a489d2a1999f31d6?v=232b838b9a994d9b858082551eca57fb)\n",
    "\n",
    "## Task\n",
    "Predict True/False will the user listen to the same song repetitively in a month, after the first listen. \n",
    "\n",
    "- song_extra_info.csv\n",
    "- train.csv\n",
    "- songs.csv\n",
    "- sample_submission.csv\n",
    "- test.csv -> Don't use this dataset"
   ]
  },
  {
   "cell_type": "code",
   "execution_count": 1,
   "metadata": {},
   "outputs": [],
   "source": [
    "import pandas as pd\n",
    "import seaborn as sns\n",
    "import libs.data as data"
   ]
  },
  {
   "cell_type": "code",
   "execution_count": 2,
   "metadata": {},
   "outputs": [
    {
     "name": "stdout",
     "output_type": "stream",
     "text": [
      "reading DataFrames from /home/xexanoth/Graduated/Experiments/datasets/kkbox/raw/pkl\n"
     ]
    }
   ],
   "source": [
    "# Get data frame collection.\n",
    "kk = data.DataFrameCollection(\n",
    "    name=\"kkbox\",\n",
    "    state=\"raw\",\n",
    ")"
   ]
  },
  {
   "cell_type": "markdown",
   "metadata": {},
   "source": [
    "# Merge all csv"
   ]
  },
  {
   "cell_type": "code",
   "execution_count": 3,
   "metadata": {},
   "outputs": [],
   "source": [
    "# train <-join- songs\n",
    "train_songs = pd.merge(\n",
    "    left=kk.train,\n",
    "    right=kk.songs,\n",
    "    on=\"song_id\", # song id\n",
    "    how='left'\n",
    ")\n",
    "\n",
    "train_songs_extra = pd.merge(\n",
    "    left=train_songs,\n",
    "    right=kk.songs_extra,\n",
    "    on='song_id', # song id\n",
    "    how='left'\n",
    ")\n",
    "\n",
    "merged = pd.merge(\n",
    "    left=train_songs_extra,\n",
    "    right=kk.members,\n",
    "    on='msno',  # user id\n",
    "    how='left',\n",
    ")"
   ]
  },
  {
   "cell_type": "code",
   "execution_count": 4,
   "metadata": {},
   "outputs": [],
   "source": [
    "kk.add_df(\"merged\", merged)"
   ]
  },
  {
   "cell_type": "code",
   "execution_count": 5,
   "metadata": {},
   "outputs": [
    {
     "name": "stdout",
     "output_type": "stream",
     "text": [
      "saving DataFrames ['train', 'songs_extra', 'merged', 'members', 'songs', 'merged'] to /home/xexanoth/Graduated/Experiments/datasets/kkbox/raw/pkl\n"
     ]
    }
   ],
   "source": [
    "kk.save_dfs(columns=None)"
   ]
  },
  {
   "cell_type": "code",
   "execution_count": 62,
   "metadata": {},
   "outputs": [],
   "source": [
    "kk.train.sort_values(by=\"msno\", inplace=True, kind='stable')"
   ]
  },
  {
   "cell_type": "code",
   "execution_count": 63,
   "metadata": {},
   "outputs": [
    {
     "data": {
      "text/html": [
       "<div>\n",
       "<style scoped>\n",
       "    .dataframe tbody tr th:only-of-type {\n",
       "        vertical-align: middle;\n",
       "    }\n",
       "\n",
       "    .dataframe tbody tr th {\n",
       "        vertical-align: top;\n",
       "    }\n",
       "\n",
       "    .dataframe thead th {\n",
       "        text-align: right;\n",
       "    }\n",
       "</style>\n",
       "<table border=\"1\" class=\"dataframe\">\n",
       "  <thead>\n",
       "    <tr style=\"text-align: right;\">\n",
       "      <th></th>\n",
       "      <th>msno</th>\n",
       "      <th>song_id</th>\n",
       "      <th>source_system_tab</th>\n",
       "      <th>source_screen_name</th>\n",
       "      <th>source_type</th>\n",
       "      <th>target</th>\n",
       "    </tr>\n",
       "  </thead>\n",
       "  <tbody>\n",
       "    <tr>\n",
       "      <th>583431</th>\n",
       "      <td>++5wYjoMgQHoRuD3GbbvmphZbBBwymzv5Q4l8sywtuU=</td>\n",
       "      <td>PvdDhjfOYDotX7NcQ01pkCpO45QmJbxDHwA8K0KFNZo=</td>\n",
       "      <td>discover</td>\n",
       "      <td>Album more</td>\n",
       "      <td>album</td>\n",
       "      <td>0</td>\n",
       "    </tr>\n",
       "    <tr>\n",
       "      <th>583432</th>\n",
       "      <td>++5wYjoMgQHoRuD3GbbvmphZbBBwymzv5Q4l8sywtuU=</td>\n",
       "      <td>ufEHCDzlfr0hHc3TgnONS7ZaWInGxmFFgmEHTwbyPh0=</td>\n",
       "      <td>discover</td>\n",
       "      <td>Album more</td>\n",
       "      <td>album</td>\n",
       "      <td>0</td>\n",
       "    </tr>\n",
       "    <tr>\n",
       "      <th>583433</th>\n",
       "      <td>++5wYjoMgQHoRuD3GbbvmphZbBBwymzv5Q4l8sywtuU=</td>\n",
       "      <td>fonTZPMYyd+2/kWeCW1I8B69iY1hNGttT4r82o1mPWQ=</td>\n",
       "      <td>discover</td>\n",
       "      <td>Album more</td>\n",
       "      <td>album</td>\n",
       "      <td>0</td>\n",
       "    </tr>\n",
       "    <tr>\n",
       "      <th>586683</th>\n",
       "      <td>++5wYjoMgQHoRuD3GbbvmphZbBBwymzv5Q4l8sywtuU=</td>\n",
       "      <td>V/tjz9aW+/xnjQCWFq6nS8hCJsJWkIx34lYp3f5TaAA=</td>\n",
       "      <td>discover</td>\n",
       "      <td>Album more</td>\n",
       "      <td>album</td>\n",
       "      <td>0</td>\n",
       "    </tr>\n",
       "    <tr>\n",
       "      <th>586685</th>\n",
       "      <td>++5wYjoMgQHoRuD3GbbvmphZbBBwymzv5Q4l8sywtuU=</td>\n",
       "      <td>8koAqQAAGWUgTEgAXum/z72nzNPTLpSDRYV+p9yjetI=</td>\n",
       "      <td>discover</td>\n",
       "      <td>Album more</td>\n",
       "      <td>album</td>\n",
       "      <td>0</td>\n",
       "    </tr>\n",
       "    <tr>\n",
       "      <th>...</th>\n",
       "      <td>...</td>\n",
       "      <td>...</td>\n",
       "      <td>...</td>\n",
       "      <td>...</td>\n",
       "      <td>...</td>\n",
       "      <td>...</td>\n",
       "    </tr>\n",
       "    <tr>\n",
       "      <th>7364449</th>\n",
       "      <td>zzqc2ja7z10FtSpagYVcAZXg/gPRq7wcDZuNFj+zJSU=</td>\n",
       "      <td>/o5qYcEWBxYjeSfi0GB5UFaxSdRnNEE3y3bX//nAJzQ=</td>\n",
       "      <td>my library</td>\n",
       "      <td>Album more</td>\n",
       "      <td>album</td>\n",
       "      <td>0</td>\n",
       "    </tr>\n",
       "    <tr>\n",
       "      <th>7364451</th>\n",
       "      <td>zzqc2ja7z10FtSpagYVcAZXg/gPRq7wcDZuNFj+zJSU=</td>\n",
       "      <td>zIqxWqaNW+z+9Lgy3/mwgVGEIp8FGKW73juVwZCH8rE=</td>\n",
       "      <td>my library</td>\n",
       "      <td>Album more</td>\n",
       "      <td>album</td>\n",
       "      <td>0</td>\n",
       "    </tr>\n",
       "    <tr>\n",
       "      <th>3152063</th>\n",
       "      <td>zzzRi5ek1YCKTGns8C77xwAutE05PAPmz8T/pIIQhzE=</td>\n",
       "      <td>rqNd52MxQ+okfR61j2c7u36DLODO4d2Zt/hMm3jxncM=</td>\n",
       "      <td>my library</td>\n",
       "      <td>Album more</td>\n",
       "      <td>album</td>\n",
       "      <td>1</td>\n",
       "    </tr>\n",
       "    <tr>\n",
       "      <th>4074747</th>\n",
       "      <td>zzzRi5ek1YCKTGns8C77xwAutE05PAPmz8T/pIIQhzE=</td>\n",
       "      <td>wBTWuHbjdjxnG1lQcbqnK4FddV24rUhuyrYLd9c/hmk=</td>\n",
       "      <td>my library</td>\n",
       "      <td>Search</td>\n",
       "      <td>song</td>\n",
       "      <td>1</td>\n",
       "    </tr>\n",
       "    <tr>\n",
       "      <th>4077875</th>\n",
       "      <td>zzzRi5ek1YCKTGns8C77xwAutE05PAPmz8T/pIIQhzE=</td>\n",
       "      <td>PgRtmmESVNtWjoZHO5a1r21vIz9sVZmcJJpFCbRa1LI=</td>\n",
       "      <td>my library</td>\n",
       "      <td>Search Trends</td>\n",
       "      <td>song</td>\n",
       "      <td>0</td>\n",
       "    </tr>\n",
       "  </tbody>\n",
       "</table>\n",
       "<p>7377418 rows × 6 columns</p>\n",
       "</div>"
      ],
      "text/plain": [
       "                                                 msno  \\\n",
       "583431   ++5wYjoMgQHoRuD3GbbvmphZbBBwymzv5Q4l8sywtuU=   \n",
       "583432   ++5wYjoMgQHoRuD3GbbvmphZbBBwymzv5Q4l8sywtuU=   \n",
       "583433   ++5wYjoMgQHoRuD3GbbvmphZbBBwymzv5Q4l8sywtuU=   \n",
       "586683   ++5wYjoMgQHoRuD3GbbvmphZbBBwymzv5Q4l8sywtuU=   \n",
       "586685   ++5wYjoMgQHoRuD3GbbvmphZbBBwymzv5Q4l8sywtuU=   \n",
       "...                                               ...   \n",
       "7364449  zzqc2ja7z10FtSpagYVcAZXg/gPRq7wcDZuNFj+zJSU=   \n",
       "7364451  zzqc2ja7z10FtSpagYVcAZXg/gPRq7wcDZuNFj+zJSU=   \n",
       "3152063  zzzRi5ek1YCKTGns8C77xwAutE05PAPmz8T/pIIQhzE=   \n",
       "4074747  zzzRi5ek1YCKTGns8C77xwAutE05PAPmz8T/pIIQhzE=   \n",
       "4077875  zzzRi5ek1YCKTGns8C77xwAutE05PAPmz8T/pIIQhzE=   \n",
       "\n",
       "                                              song_id source_system_tab  \\\n",
       "583431   PvdDhjfOYDotX7NcQ01pkCpO45QmJbxDHwA8K0KFNZo=          discover   \n",
       "583432   ufEHCDzlfr0hHc3TgnONS7ZaWInGxmFFgmEHTwbyPh0=          discover   \n",
       "583433   fonTZPMYyd+2/kWeCW1I8B69iY1hNGttT4r82o1mPWQ=          discover   \n",
       "586683   V/tjz9aW+/xnjQCWFq6nS8hCJsJWkIx34lYp3f5TaAA=          discover   \n",
       "586685   8koAqQAAGWUgTEgAXum/z72nzNPTLpSDRYV+p9yjetI=          discover   \n",
       "...                                               ...               ...   \n",
       "7364449  /o5qYcEWBxYjeSfi0GB5UFaxSdRnNEE3y3bX//nAJzQ=        my library   \n",
       "7364451  zIqxWqaNW+z+9Lgy3/mwgVGEIp8FGKW73juVwZCH8rE=        my library   \n",
       "3152063  rqNd52MxQ+okfR61j2c7u36DLODO4d2Zt/hMm3jxncM=        my library   \n",
       "4074747  wBTWuHbjdjxnG1lQcbqnK4FddV24rUhuyrYLd9c/hmk=        my library   \n",
       "4077875  PgRtmmESVNtWjoZHO5a1r21vIz9sVZmcJJpFCbRa1LI=        my library   \n",
       "\n",
       "        source_screen_name source_type  target  \n",
       "583431          Album more       album       0  \n",
       "583432          Album more       album       0  \n",
       "583433          Album more       album       0  \n",
       "586683          Album more       album       0  \n",
       "586685          Album more       album       0  \n",
       "...                    ...         ...     ...  \n",
       "7364449         Album more       album       0  \n",
       "7364451         Album more       album       0  \n",
       "3152063         Album more       album       1  \n",
       "4074747             Search        song       1  \n",
       "4077875      Search Trends        song       0  \n",
       "\n",
       "[7377418 rows x 6 columns]"
      ]
     },
     "execution_count": 63,
     "metadata": {},
     "output_type": "execute_result"
    }
   ],
   "source": [
    "kk.train"
   ]
  },
  {
   "cell_type": "markdown",
   "metadata": {},
   "source": [
    "## Data Analysis"
   ]
  },
  {
   "cell_type": "code",
   "execution_count": 2,
   "metadata": {},
   "outputs": [],
   "source": [
    "# Load all datasets\n",
    "kk = get_data.KKBoxDataset(\"./datasets/kkbox/\")"
   ]
  },
  {
   "cell_type": "code",
   "execution_count": 3,
   "metadata": {},
   "outputs": [
    {
     "data": {
      "text/plain": [
       "2295422"
      ]
     },
     "execution_count": 3,
     "metadata": {},
     "output_type": "execute_result"
    }
   ],
   "source": [
    "s_s_id = kk.songs.song_id\n",
    "se_s_id = kk.songs_extra.song_id\n",
    "\n",
    "len(set(se_s_id).intersection(set(s_s_id)))"
   ]
  },
  {
   "cell_type": "code",
   "execution_count": 49,
   "metadata": {},
   "outputs": [],
   "source": [
    "train = kkbox.train\n",
    "i_train = info.Info(train)"
   ]
  },
  {
   "cell_type": "code",
   "execution_count": 52,
   "metadata": {},
   "outputs": [
    {
     "data": {
      "text/plain": [
       "30755"
      ]
     },
     "execution_count": 52,
     "metadata": {},
     "output_type": "execute_result"
    }
   ],
   "source": [
    "len(train.msno.unique())"
   ]
  },
  {
   "cell_type": "code",
   "execution_count": 34,
   "metadata": {},
   "outputs": [],
   "source": [
    "members = pd.read_csv('./datasets/members.csv')"
   ]
  },
  {
   "cell_type": "code",
   "execution_count": null,
   "metadata": {},
   "outputs": [],
   "source": [
    "i_members = info.Info(members)\n",
    "\n",
    "i_members.show_unique_info()\n",
    "i_members.show_nan_info()\n",
    "_ = members.hist(figsize=(12, 12))\n",
    "\n",
    "plt.hist(members.bd[members.bd < 65])"
   ]
  }
 ],
 "metadata": {
  "kernelspec": {
   "display_name": "Python 3.10.5 64-bit ('exp')",
   "language": "python",
   "name": "python3"
  },
  "language_info": {
   "codemirror_mode": {
    "name": "ipython",
    "version": 3
   },
   "file_extension": ".py",
   "mimetype": "text/x-python",
   "name": "python",
   "nbconvert_exporter": "python",
   "pygments_lexer": "ipython3",
   "version": "3.10.5"
  },
  "orig_nbformat": 4,
  "vscode": {
   "interpreter": {
    "hash": "cc2977f17c1963fef165f6a645b19fd4f40465c1d6aa1f4594d36217ec4937b1"
   }
  }
 },
 "nbformat": 4,
 "nbformat_minor": 2
}
