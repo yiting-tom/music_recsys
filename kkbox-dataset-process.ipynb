{
 "cells": [
  {
   "cell_type": "markdown",
   "metadata": {},
   "source": [
    "# KKBox Dataset Processing\n",
    "\n",
    "[Kaggle Link](https://www.kaggle.com/competitions/kkbox-music-recommendation-challenge/overview)\n",
    "\n",
    "[Notion Link](https://www.notion.so/yi-ting/W1-Spike-Datasets-7f37af801dbf4e61a489d2a1999f31d6?v=232b838b9a994d9b858082551eca57fb)\n",
    "\n",
    "## Task\n",
    "Predict True/False will the user listen to the same song repetitively in a month, after the first listen. \n",
    "\n",
    "- song_extra_info.csv\n",
    "- train.csv\n",
    "- songs.csv\n",
    "- sample_submission.csv\n",
    "- test.csv -> Don't use this dataset"
   ]
  },
  {
   "cell_type": "code",
   "execution_count": 6,
   "metadata": {},
   "outputs": [],
   "source": [
    "import pandas as pd\n",
    "import seaborn as sns\n",
    "import libs.data as data"
   ]
  },
  {
   "cell_type": "code",
   "execution_count": 55,
   "metadata": {},
   "outputs": [
    {
     "name": "stdout",
     "output_type": "stream",
     "text": [
      "reading DataFrames from /home/xexanoth/Graduated/Experiments/datasets/kkbox/raw/pkl\n"
     ]
    }
   ],
   "source": [
    "# Get data frame collection.\n",
    "kk = data.DataFrameCollection(\n",
    "    name=\"kkbox\",\n",
    "    state=\"raw\",\n",
    ")"
   ]
  },
  {
   "cell_type": "markdown",
   "metadata": {},
   "source": [
    "## Merge all csv"
   ]
  },
  {
   "cell_type": "code",
   "execution_count": 3,
   "metadata": {},
   "outputs": [],
   "source": [
    "def merge_all_csv():\n",
    "    # train <-join- songs\n",
    "    train_songs = pd.merge(\n",
    "        left=kk.train,\n",
    "        right=kk.songs,\n",
    "        on=\"song_id\", # song id\n",
    "        how='left'\n",
    "    )\n",
    "\n",
    "    train_songs_extra = pd.merge(\n",
    "        left=train_songs,\n",
    "        right=kk.songs_extra,\n",
    "        on='song_id', # song id\n",
    "        how='left'\n",
    "    )\n",
    "\n",
    "    merged = pd.merge(\n",
    "        left=train_songs_extra,\n",
    "        right=kk.members,\n",
    "        on='msno',  # user id\n",
    "        how='left',\n",
    "    )\n",
    "    return merged"
   ]
  },
  {
   "cell_type": "markdown",
   "metadata": {},
   "source": [
    "## Fill missing values"
   ]
  },
  {
   "cell_type": "markdown",
   "metadata": {},
   "source": [
    "### categorical"
   ]
  },
  {
   "cell_type": "code",
   "execution_count": 76,
   "metadata": {},
   "outputs": [
    {
     "data": {
      "text/plain": [
       "0    52.0\n",
       "Name: language, dtype: float64"
      ]
     },
     "execution_count": 76,
     "metadata": {},
     "output_type": "execute_result"
    }
   ],
   "source": [
    "def train_fillna():\n",
    "    kk.train.source_system_tab.fillna('[UNK]', inplace=True)\n",
    "    kk.train.source_screen_name.fillna('[UNK]', inplace=True)\n",
    "    kk.train.source_type.fillna('[UNK]', inplace=True)\n",
    "\n",
    "def members_fillna():\n",
    "    kk.members.gender.fillna('[UNK]', inplace=True)\n",
    "\n",
    "def songs_fillna():\n",
    "    kk.songs.genre_ids.fillna('[UNK]', inplace=True)\n",
    "    kk.songs.composer.fillna('[UNK]', inplace=True)\n",
    "    kk.songs.lyricist.fillna('[UNK]', inplace=True)\n",
    "    kk.songs.language.fillna(kk.songs.language.mode(), inplace=True)"
   ]
  },
  {
   "cell_type": "code",
   "execution_count": 8,
   "metadata": {},
   "outputs": [],
   "source": [
    "kk.merged.sort_values(by=\"msno\", inplace=True, kind='stable')"
   ]
  },
  {
   "cell_type": "code",
   "execution_count": 10,
   "metadata": {},
   "outputs": [],
   "source": [
    "lu = kk.merged[kk.merged.msno == \"zzzRi5ek1YCKTGns8C77xwAutE05PAPmz8T/pIIQhzE=\"]\n",
    "fu = kk.merged[kk.merged.msno == \"++5wYjoMgQHoRuD3GbbvmphZbBBwymzv5Q4l8sywtuU=\"]\n"
   ]
  },
  {
   "cell_type": "code",
   "execution_count": null,
   "metadata": {},
   "outputs": [],
   "source": []
  },
  {
   "cell_type": "code",
   "execution_count": 36,
   "metadata": {},
   "outputs": [
    {
     "data": {
      "text/plain": [
       "<AxesSubplot:>"
      ]
     },
     "execution_count": 36,
     "metadata": {},
     "output_type": "execute_result"
    },
    {
     "data": {
      "image/png": "[encoded data removed]",
      "text/plain": [
       "<Figure size 432x288 with 2 Axes>"
      ]
     },
     "metadata": {
      "needs_background": "light"
     },
     "output_type": "display_data"
    }
   ],
   "source": []
  },
  {
   "cell_type": "code",
   "execution_count": 13,
   "metadata": {},
   "outputs": [
    {
     "data": {
      "text/html": [
       "<div>\n",
       "<style scoped>\n",
       "    .dataframe tbody tr th:only-of-type {\n",
       "        vertical-align: middle;\n",
       "    }\n",
       "\n",
       "    .dataframe tbody tr th {\n",
       "        vertical-align: top;\n",
       "    }\n",
       "\n",
       "    .dataframe thead th {\n",
       "        text-align: right;\n",
       "    }\n",
       "</style>\n",
       "<table border=\"1\" class=\"dataframe\">\n",
       "  <thead>\n",
       "    <tr style=\"text-align: right;\">\n",
       "      <th></th>\n",
       "      <th>msno</th>\n",
       "      <th>song_id</th>\n",
       "      <th>source_system_tab</th>\n",
       "      <th>source_screen_name</th>\n",
       "      <th>source_type</th>\n",
       "      <th>target</th>\n",
       "      <th>song_length</th>\n",
       "      <th>genre_ids</th>\n",
       "      <th>artist_name</th>\n",
       "      <th>composer</th>\n",
       "      <th>lyricist</th>\n",
       "      <th>language</th>\n",
       "      <th>name</th>\n",
       "      <th>isrc</th>\n",
       "      <th>city</th>\n",
       "      <th>bd</th>\n",
       "      <th>gender</th>\n",
       "      <th>registered_via</th>\n",
       "      <th>registration_init_time</th>\n",
       "      <th>expiration_date</th>\n",
       "    </tr>\n",
       "  </thead>\n",
       "  <tbody>\n",
       "    <tr>\n",
       "      <th>3152063</th>\n",
       "      <td>zzzRi5ek1YCKTGns8C77xwAutE05PAPmz8T/pIIQhzE=</td>\n",
       "      <td>rqNd52MxQ+okfR61j2c7u36DLODO4d2Zt/hMm3jxncM=</td>\n",
       "      <td>my library</td>\n",
       "      <td>Album more</td>\n",
       "      <td>album</td>\n",
       "      <td>1</td>\n",
       "      <td>222624.0</td>\n",
       "      <td>458</td>\n",
       "      <td>三個人 (Three People)</td>\n",
       "      <td>倪子岡\\劉軒蓁</td>\n",
       "      <td>劉軒蓁</td>\n",
       "      <td>3.0</td>\n",
       "      <td>這是我 (This is me)</td>\n",
       "      <td>TWAG11600701</td>\n",
       "      <td>1</td>\n",
       "      <td>0</td>\n",
       "      <td>NaN</td>\n",
       "      <td>4</td>\n",
       "      <td>20161105</td>\n",
       "      <td>20170614</td>\n",
       "    </tr>\n",
       "    <tr>\n",
       "      <th>4074747</th>\n",
       "      <td>zzzRi5ek1YCKTGns8C77xwAutE05PAPmz8T/pIIQhzE=</td>\n",
       "      <td>wBTWuHbjdjxnG1lQcbqnK4FddV24rUhuyrYLd9c/hmk=</td>\n",
       "      <td>my library</td>\n",
       "      <td>Search</td>\n",
       "      <td>song</td>\n",
       "      <td>1</td>\n",
       "      <td>265508.0</td>\n",
       "      <td>465</td>\n",
       "      <td>田馥甄 (Hebe)</td>\n",
       "      <td>JerryC</td>\n",
       "      <td>徐世珍/吳輝福</td>\n",
       "      <td>3.0</td>\n",
       "      <td>小幸運 (A little happiness)</td>\n",
       "      <td>TWD951562101</td>\n",
       "      <td>1</td>\n",
       "      <td>0</td>\n",
       "      <td>NaN</td>\n",
       "      <td>4</td>\n",
       "      <td>20161105</td>\n",
       "      <td>20170614</td>\n",
       "    </tr>\n",
       "    <tr>\n",
       "      <th>4077875</th>\n",
       "      <td>zzzRi5ek1YCKTGns8C77xwAutE05PAPmz8T/pIIQhzE=</td>\n",
       "      <td>PgRtmmESVNtWjoZHO5a1r21vIz9sVZmcJJpFCbRa1LI=</td>\n",
       "      <td>my library</td>\n",
       "      <td>Search Trends</td>\n",
       "      <td>song</td>\n",
       "      <td>0</td>\n",
       "      <td>227343.0</td>\n",
       "      <td>465</td>\n",
       "      <td>謝和弦 (R-chord)</td>\n",
       "      <td>R-chord</td>\n",
       "      <td>R-chord</td>\n",
       "      <td>3.0</td>\n",
       "      <td>謝謝妳愛我 (Thanks For Your Love)</td>\n",
       "      <td>TWA531657203</td>\n",
       "      <td>1</td>\n",
       "      <td>0</td>\n",
       "      <td>NaN</td>\n",
       "      <td>4</td>\n",
       "      <td>20161105</td>\n",
       "      <td>20170614</td>\n",
       "    </tr>\n",
       "  </tbody>\n",
       "</table>\n",
       "</div>"
      ],
      "text/plain": [
       "                                                 msno  \\\n",
       "3152063  zzzRi5ek1YCKTGns8C77xwAutE05PAPmz8T/pIIQhzE=   \n",
       "4074747  zzzRi5ek1YCKTGns8C77xwAutE05PAPmz8T/pIIQhzE=   \n",
       "4077875  zzzRi5ek1YCKTGns8C77xwAutE05PAPmz8T/pIIQhzE=   \n",
       "\n",
       "                                              song_id source_system_tab  \\\n",
       "3152063  rqNd52MxQ+okfR61j2c7u36DLODO4d2Zt/hMm3jxncM=        my library   \n",
       "4074747  wBTWuHbjdjxnG1lQcbqnK4FddV24rUhuyrYLd9c/hmk=        my library   \n",
       "4077875  PgRtmmESVNtWjoZHO5a1r21vIz9sVZmcJJpFCbRa1LI=        my library   \n",
       "\n",
       "        source_screen_name source_type  target  song_length genre_ids  \\\n",
       "3152063         Album more       album       1     222624.0       458   \n",
       "4074747             Search        song       1     265508.0       465   \n",
       "4077875      Search Trends        song       0     227343.0       465   \n",
       "\n",
       "                artist_name composer lyricist  language  \\\n",
       "3152063  三個人 (Three People)  倪子岡\\劉軒蓁      劉軒蓁       3.0   \n",
       "4074747          田馥甄 (Hebe)   JerryC  徐世珍/吳輝福       3.0   \n",
       "4077875       謝和弦 (R-chord)  R-chord  R-chord       3.0   \n",
       "\n",
       "                                 name          isrc  city  bd gender  \\\n",
       "3152063              這是我 (This is me)  TWAG11600701     1   0    NaN   \n",
       "4074747      小幸運 (A little happiness)  TWD951562101     1   0    NaN   \n",
       "4077875  謝謝妳愛我 (Thanks For Your Love)  TWA531657203     1   0    NaN   \n",
       "\n",
       "         registered_via  registration_init_time  expiration_date  \n",
       "3152063               4                20161105         20170614  \n",
       "4074747               4                20161105         20170614  \n",
       "4077875               4                20161105         20170614  "
      ]
     },
     "execution_count": 13,
     "metadata": {},
     "output_type": "execute_result"
    }
   ],
   "source": [
    "lu"
   ]
  },
  {
   "cell_type": "markdown",
   "metadata": {},
   "source": [
    "## Data Analysis"
   ]
  },
  {
   "cell_type": "code",
   "execution_count": 2,
   "metadata": {},
   "outputs": [],
   "source": [
    "# Load all datasets\n",
    "kk = get_data.KKBoxDataset(\"./datasets/kkbox/\")"
   ]
  },
  {
   "cell_type": "code",
   "execution_count": 3,
   "metadata": {},
   "outputs": [
    {
     "data": {
      "text/plain": [
       "2295422"
      ]
     },
     "execution_count": 3,
     "metadata": {},
     "output_type": "execute_result"
    }
   ],
   "source": [
    "s_s_id = kk.songs.song_id\n",
    "se_s_id = kk.songs_extra.song_id\n",
    "\n",
    "len(set(se_s_id).intersection(set(s_s_id)))"
   ]
  },
  {
   "cell_type": "code",
   "execution_count": 49,
   "metadata": {},
   "outputs": [],
   "source": [
    "train = kkbox.train\n",
    "i_train = info.Info(train)"
   ]
  },
  {
   "cell_type": "code",
   "execution_count": 52,
   "metadata": {},
   "outputs": [
    {
     "data": {
      "text/plain": [
       "30755"
      ]
     },
     "execution_count": 52,
     "metadata": {},
     "output_type": "execute_result"
    }
   ],
   "source": [
    "len(train.msno.unique())"
   ]
  },
  {
   "cell_type": "code",
   "execution_count": 34,
   "metadata": {},
   "outputs": [],
   "source": [
    "members = pd.read_csv('./datasets/members.csv')"
   ]
  },
  {
   "cell_type": "code",
   "execution_count": null,
   "metadata": {},
   "outputs": [],
   "source": [
    "i_members = info.Info(members)\n",
    "\n",
    "i_members.show_unique_info()\n",
    "i_members.show_nan_info()\n",
    "_ = members.hist(figsize=(12, 12))\n",
    "\n",
    "plt.hist(members.bd[members.bd < 65])"
   ]
  }
 ],
 "metadata": {
  "kernelspec": {
   "display_name": "Python 3.10.5 64-bit ('exp')",
   "language": "python",
   "name": "python3"
  },
  "language_info": {
   "codemirror_mode": {
    "name": "ipython",
    "version": 3
   },
   "file_extension": ".py",
   "mimetype": "text/x-python",
   "name": "python",
   "nbconvert_exporter": "python",
   "pygments_lexer": "ipython3",
   "version": "3.10.5"
  },
  "orig_nbformat": 4,
  "vscode": {
   "interpreter": {
    "hash": "cc2977f17c1963fef165f6a645b19fd4f40465c1d6aa1f4594d36217ec4937b1"
   }
  }
 },
 "nbformat": 4,
 "nbformat_minor": 2
}
